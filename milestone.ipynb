{
 "cells": [
  {
   "cell_type": "markdown",
   "id": "2d17b016-7e67-4beb-816c-b98798857ea4",
   "metadata": {},
   "source": [
    "# preamble"
   ]
  },
  {
   "cell_type": "code",
   "execution_count": 47,
   "id": "01363d1a-ef1a-45a8-a502-da1a1fb189f6",
   "metadata": {},
   "outputs": [],
   "source": [
    "import numpy as np\n",
    "import pandas as pd\n",
    "import matplotlib as mpl\n",
    "import matplotlib.pyplot as plt"
   ]
  },
  {
   "cell_type": "markdown",
   "id": "ca12c005-c18d-4f67-b474-543bab1d491b",
   "metadata": {
    "tags": []
   },
   "source": [
    "# Day 4 pandas action items"
   ]
  },
  {
   "cell_type": "markdown",
   "id": "8be33c67-4a5c-42c3-bbe6-577077dd0e8c",
   "metadata": {},
   "source": [
    "1. How many different companies are represented in the data set?\n",
    "2. What is the total number of jobs created for businesses in Queens?\n",
    "3. How many different unique email domains names are there in the data set?\n",
    "4. Considering only NTAs with at least 5 listed businesses, what is the average total savings and the total jobs created for each NTA?\n",
    "5. Save your result for the previous question as a CSV file."
   ]
  },
  {
   "cell_type": "code",
   "execution_count": 258,
   "id": "d0a6969e-6f62-446e-9619-40c78bac6d59",
   "metadata": {},
   "outputs": [],
   "source": [
    "df = pd.read_csv('Value_of_Energy_Cost_Savings_Program_Savings_for_Businesses_-_FY2020.csv')"
   ]
  },
  {
   "cell_type": "code",
   "execution_count": 259,
   "id": "b3996458-1762-464e-bf28-03bed8aee0d5",
   "metadata": {},
   "outputs": [
    {
     "data": {
      "text/plain": [
       "439"
      ]
     },
     "execution_count": 259,
     "metadata": {},
     "output_type": "execute_result"
    }
   ],
   "source": [
    "# number of companies\n",
    "companies = df['Company Name'].value_counts() # gets rid of duplicates\n",
    "companies = companies.dropna()\n",
    "companies.index.size"
   ]
  },
  {
   "cell_type": "code",
   "execution_count": 260,
   "id": "5222ce70-d461-4ed6-ae56-f9fd3620e330",
   "metadata": {},
   "outputs": [
    {
     "data": {
      "text/plain": [
       "102.0"
      ]
     },
     "execution_count": 260,
     "metadata": {},
     "output_type": "execute_result"
    }
   ],
   "source": [
    "# number of jobs created in Queens\n",
    "queens=df[df['Borough'] == 'Queens']\n",
    "# print(queens.columns)\n",
    "queens['Job created'].sum()"
   ]
  },
  {
   "cell_type": "code",
   "execution_count": 261,
   "id": "074c1d99-2141-4db7-a2fe-8947cae8089d",
   "metadata": {},
   "outputs": [
    {
     "data": {
      "text/plain": [
       "420"
      ]
     },
     "execution_count": 261,
     "metadata": {},
     "output_type": "execute_result"
    }
   ],
   "source": [
    "# unique email addresses\n",
    "# print(df['company email'].dropna().shape)\n",
    "df['company email'].dropna().nunique()"
   ]
  },
  {
   "cell_type": "code",
   "execution_count": 262,
   "id": "c7d4a94c-64ce-4906-81fc-8b7558ab8347",
   "metadata": {},
   "outputs": [
    {
     "data": {
      "text/plain": [
       "Index(['Company Name', 'company contact', 'company email', 'company phone',\n",
       "       'Address', 'City', 'State', 'Postcode', 'Industry', 'Industry descr',\n",
       "       'Company Type', 'Current fulltime', 'Job created', 'Job retain',\n",
       "       'Effective Date', 'Total Savings',\n",
       "       'Savings from beginning receiving benefits', 'Borough', 'Latitude',\n",
       "       'Longitude', 'Community Board', 'Council District', 'Census Tract',\n",
       "       'BIN', 'BBL', 'NTA'],\n",
       "      dtype='object')"
      ]
     },
     "execution_count": 262,
     "metadata": {},
     "output_type": "execute_result"
    }
   ],
   "source": [
    "df.columns"
   ]
  },
  {
   "cell_type": "code",
   "execution_count": 263,
   "id": "a85435ae-bcda-46a8-b65e-16e9662f7d74",
   "metadata": {},
   "outputs": [],
   "source": [
    "# get names of NTAs with >5 companies listed\n",
    "NTAs = df[['Company Name','NTA']].dropna().NTA.value_counts()\n",
    "NTAs = NTAs[NTAs >= 5]"
   ]
  },
  {
   "cell_type": "code",
   "execution_count": 268,
   "id": "93874c8a-293b-454d-8120-6c3cde380fbf",
   "metadata": {},
   "outputs": [
    {
     "data": {
      "text/plain": [
       "Index(['Battery Park City-Lower Manhattan', 'Bushwick South',\n",
       "       'Carroll Gardens-Columbia Street-Red Hook', 'College Point',\n",
       "       'Crown Heights North',\n",
       "       'DUMBO-Vinegar Hill-Downtown Brooklyn-Boerum Hill', 'East New York',\n",
       "       'East Williamsburg', 'Greenpoint',\n",
       "       'Hunters Point-Sunnyside-West Maspeth', 'Hunts Point', 'Manhattanville',\n",
       "       'Maspeth', 'Mott Haven-Port Morris',\n",
       "       'Queensbridge-Ravenswood-Long Island City',\n",
       "       'SoHo-TriBeCa-Civic Center-Little Italy',\n",
       "       'Springfield Gardens South-Brookville', 'Steinway', 'Sunset Park West',\n",
       "       'park-cemetery-etc-Brooklyn'],\n",
       "      dtype='object', name='NTA')"
      ]
     },
     "execution_count": 268,
     "metadata": {},
     "output_type": "execute_result"
    }
   ],
   "source": [
    "# find NTAs with > 5 unique companies\n",
    "nta_cond = df.groupby(['NTA']).nunique()\n",
    "nta_cond = nta_cond.index[nta_cond['Company Name'] >= 5]\n",
    "nta_cond"
   ]
  },
  {
   "cell_type": "code",
   "execution_count": 269,
   "id": "d41311ea-3426-4e00-9f32-68a9980d5f1d",
   "metadata": {},
   "outputs": [
    {
     "name": "stdout",
     "output_type": "stream",
     "text": [
      "                                                  Total Savings  Job created\n",
      "NTA                                                                         \n",
      "Battery Park City-Lower Manhattan                 469890.796667          0.0\n",
      "Bushwick South                                     26140.455000         10.0\n",
      "Carroll Gardens-Columbia Street-Red Hook           24337.390000          0.0\n",
      "College Point                                      17159.372857          2.0\n",
      "Crown Heights North                                 4036.298889          0.0\n",
      "DUMBO-Vinegar Hill-Downtown Brooklyn-Boerum Hill   59950.340000          0.0\n",
      "East New York                                      48433.093333         15.0\n",
      "East Williamsburg                                  13990.626364          0.0\n",
      "Greenpoint                                          9753.649286          0.0\n",
      "Hunters Point-Sunnyside-West Maspeth               23931.398933          0.0\n",
      "Hunts Point                                        39246.016154         12.0\n",
      "Manhattanville                                      2760.888889          0.0\n",
      "Maspeth                                             6658.283333         10.0\n",
      "Mott Haven-Port Morris                             17843.937857         10.0\n",
      "Queensbridge-Ravenswood-Long Island City           61830.770625          0.0\n",
      "SoHo-TriBeCa-Civic Center-Little Italy             37214.024000          0.0\n",
      "Springfield Gardens South-Brookville               17757.662000          0.0\n",
      "Steinway                                           11227.155714         20.0\n",
      "Sunset Park West                                   14316.976875          0.0\n",
      "park-cemetery-etc-Brooklyn                         14327.419333          0.0\n"
     ]
    }
   ],
   "source": [
    "# apply to df and get numbers\n",
    "above5 = df[['Total Savings','Job created','NTA']][df.NTA.isin(nta_cond)]\n",
    "grouped = above5.groupby('NTA')\n",
    "grouped = grouped.agg(\n",
    "    {\n",
    "        'Total Savings': 'mean',\n",
    "        'Job created': 'sum'\n",
    "    }\n",
    ")\n",
    "print(grouped)"
   ]
  },
  {
   "cell_type": "code",
   "execution_count": 270,
   "id": "a7fc1b3d-7142-4ab4-9077-cc18b84d9ba7",
   "metadata": {},
   "outputs": [],
   "source": [
    "grouped.to_csv('mean_savings_and_tot_jobs_per_NTA.csv')"
   ]
  },
  {
   "cell_type": "markdown",
   "id": "4aee1a03-bb2f-4177-a43e-4373018a7409",
   "metadata": {},
   "source": [
    "# day 5 matplotlib action items"
   ]
  },
  {
   "cell_type": "code",
   "execution_count": 84,
   "id": "7ac8c323-7f90-4cd8-ab8d-2abed421fcd0",
   "metadata": {},
   "outputs": [],
   "source": [
    "# the one we generated\n",
    "df1 = pd.read_csv('mean_savings_and_tot_jobs_per_NTA.csv')"
   ]
  },
  {
   "cell_type": "code",
   "execution_count": 85,
   "id": "6af528a7-3ecd-45b2-9fa5-7447cf253918",
   "metadata": {},
   "outputs": [],
   "source": [
    "# original data\n",
    "df = pd.read_csv('Value_of_Energy_Cost_Savings_Program_Savings_for_Businesses_-_FY2020.csv')"
   ]
  },
  {
   "cell_type": "code",
   "execution_count": 156,
   "id": "e34248db-eaf5-4ed9-97ab-3198d6372ac6",
   "metadata": {},
   "outputs": [
    {
     "data": {
      "image/png": "[encoded data removed]",
      "text/plain": [
       "<Figure size 504x288 with 2 Axes>"
      ]
     },
     "metadata": {
      "needs_background": "light"
     },
     "output_type": "display_data"
    }
   ],
   "source": [
    "# scatter plot\n",
    "x = df1['Total Savings']\n",
    "y = df1['Job created']\n",
    "\n",
    "fig, (ax1, ax2) = plt.subplots(1,2,figsize=(7,4))\n",
    "ax1.scatter(x,y,marker='o')\n",
    "ax1.set_title('Jobs vs. savings/NTA (linear)')\n",
    "ax1.set_ylabel('Jobs created')\n",
    "ax1.set_xlabel('Mean savings')\n",
    "\n",
    "ax2.scatter(x,y,marker='o')\n",
    "ax2.set_title('Jobs vs. savings/NTA (semilog)')\n",
    "ax2.set_xscale('log')\n",
    "ax2.set_ylabel('Jobs created')\n",
    "ax2.set_xlabel('Mean savings')\n",
    "plt.tight_layout()"
   ]
  },
  {
   "cell_type": "code",
   "execution_count": 152,
   "id": "689b2aa1-1b2b-47a2-b2ad-bd8615cf564d",
   "metadata": {},
   "outputs": [
    {
     "data": {
      "image/png": "[encoded data removed]",
      "text/plain": [
       "<Figure size 432x288 with 1 Axes>"
      ]
     },
     "metadata": {
      "needs_background": "light"
     },
     "output_type": "display_data"
    }
   ],
   "source": [
    "# histogram of log of average total savings\n",
    "x = df1['Total Savings']\n",
    "log_savings = np.log10(np.array(x))\n",
    "fig = plt.figure('histogram')\n",
    "plt.hist(log_savings,bins=10) # not enough points for more bins\n",
    "plt.xlabel('log(mean savings)')\n",
    "plt.ylabel('counts')\n",
    "plt.title('Histogram of log of average total savings')\n",
    "plt.show()"
   ]
  },
  {
   "cell_type": "code",
   "execution_count": 151,
   "id": "40ea5090-6691-41b4-a29d-edf8746bc5cf",
   "metadata": {},
   "outputs": [
    {
     "data": {
      "image/png": "[encoded data removed]",
      "text/plain": [
       "<Figure size 432x288 with 1 Axes>"
      ]
     },
     "metadata": {
      "needs_background": "light"
     },
     "output_type": "display_data"
    }
   ],
   "source": [
    "# line plot of total jobs created for each month\n",
    "# this needs the total data set, so pull from df\n",
    "\n",
    "# drop all rows without jobs or effective dates\n",
    "new_df = df[['Effective Date','Job created']].dropna()\n",
    "# convert strings to datetimes\n",
    "new_df['Effective Date'] = pd.to_datetime(new_df['Effective Date'])\n",
    "new_df['month'] = new_df['Effective Date'].apply(lambda x: x.month)\n",
    "# add up jobs in months\n",
    "new_df = new_df.groupby('month').sum()\n",
    "# set jobs = 0 for months that aren't represented\n",
    "new_df = new_df.reindex(list(range(1,13)),fill_value=0)\n",
    "\n",
    "x = np.array(new_df.index)\n",
    "y = np.array(new_df['Job created'])\n",
    "fig = plt.figure('line plot')\n",
    "plt.plot(x,y)\n",
    "plt.xlabel('month')\n",
    "plt.ylabel('total jobs created')\n",
    "plt.title('Jobs created per month')\n",
    "plt.show()"
   ]
  },
  {
   "cell_type": "code",
   "execution_count": null,
   "id": "779876bc-d4d1-47bc-9da5-38af953eaf66",
   "metadata": {},
   "outputs": [],
   "source": []
  }
 ],
 "metadata": {
  "kernelspec": {
   "display_name": "Python 3 (ipykernel)",
   "language": "python",
   "name": "python3"
  },
  "language_info": {
   "codemirror_mode": {
    "name": "ipython",
    "version": 3
   },
   "file_extension": ".py",
   "mimetype": "text/x-python",
   "name": "python",
   "nbconvert_exporter": "python",
   "pygments_lexer": "ipython3",
   "version": "3.9.7"
  }
 },
 "nbformat": 4,
 "nbformat_minor": 5
}
